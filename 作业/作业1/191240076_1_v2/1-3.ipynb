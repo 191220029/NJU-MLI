{
 "cells": [
  {
   "cell_type": "code",
   "execution_count": 1,
   "id": "61bcccd2",
   "metadata": {
    "ExecuteTime": {
     "end_time": "2021-09-14T11:19:00.904874Z",
     "start_time": "2021-09-14T11:18:59.877624Z"
    }
   },
   "outputs": [],
   "source": [
    "import numpy as np\n",
    "import matplotlib.pyplot as plt"
   ]
  },
  {
   "cell_type": "code",
   "execution_count": 6,
   "id": "14340af1",
   "metadata": {
    "ExecuteTime": {
     "end_time": "2021-09-14T11:20:23.419788Z",
     "start_time": "2021-09-14T11:20:23.385879Z"
    }
   },
   "outputs": [
    {
     "data": {
      "text/plain": [
       "array([0.93, 0.72, 0.62, 0.45, 0.39, 0.32, 0.18, 0.01])"
      ]
     },
     "execution_count": 6,
     "metadata": {},
     "output_type": "execute_result"
    }
   ],
   "source": [
    "y_pred_1 = np.array([0.62, 0.39, 0.18, 0.72, 0.45, 0.01, 0.32, 0.93])\n",
    "y_pred_1.sort()\n",
    "y_pred_1 = y_pred_1[::-1]\n",
    "y_pred_1"
   ]
  },
  {
   "cell_type": "code",
   "execution_count": 7,
   "id": "e37eff6d",
   "metadata": {
    "ExecuteTime": {
     "end_time": "2021-09-14T11:20:24.963660Z",
     "start_time": "2021-09-14T11:20:24.958673Z"
    }
   },
   "outputs": [],
   "source": [
    "y_real_1 = np.array([1, 1, 1, 1, 0, 0, 1, 0])"
   ]
  },
  {
   "cell_type": "code",
   "execution_count": 17,
   "id": "b518764a",
   "metadata": {
    "ExecuteTime": {
     "end_time": "2021-09-14T11:24:27.296565Z",
     "start_time": "2021-09-14T11:24:27.290581Z"
    }
   },
   "outputs": [],
   "source": [
    "def draw_roc(y_pred, y_real, pos_num, neg_num, save_fig):\n",
    "    TPR_list = [0]\n",
    "    FPR_list = [0]\n",
    "    TP, FP = 0, 0\n",
    "    FN = pos_num\n",
    "    TN = neg_num\n",
    "    for i in range(len(y_pred)):\n",
    "        #将第i个预测为正例\n",
    "        if y_real[i] == 0:\n",
    "            FP += 1\n",
    "            TN -=1\n",
    "        else:\n",
    "            TP += 1\n",
    "            FN -= 1\n",
    "        TPR_list.append(TP/(TP+FN))\n",
    "        FPR_list.append(FP/(TN+FP))\n",
    "    plt.xlabel(\"FPR\")\n",
    "    plt.ylabel(\"TRP\")\n",
    "    plt.plot(FPR_list,TPR_list)\n",
    "    plt.axis([0,1,0,1])\n",
    "    plt.savefig(save_fig)\n",
    "    plt.show()\n",
    "    return TPR_list, FPR_list"
   ]
  },
  {
   "cell_type": "code",
   "execution_count": 18,
   "id": "456e2af4",
   "metadata": {
    "ExecuteTime": {
     "end_time": "2021-09-14T11:24:35.181585Z",
     "start_time": "2021-09-14T11:24:35.037943Z"
    }
   },
   "outputs": [
    {
     "data": {
      "image/png": "[encoded data removed]",
      "text/plain": [
       "<Figure size 432x288 with 1 Axes>"
      ]
     },
     "metadata": {
      "needs_background": "light"
     },
     "output_type": "display_data"
    }
   ],
   "source": [
    "tpr_1, fpr_1 = draw_roc(y_pred_1, y_real_1, 5, 3, './roc1.png')"
   ]
  },
  {
   "cell_type": "code",
   "execution_count": 19,
   "id": "00619ac7",
   "metadata": {
    "ExecuteTime": {
     "end_time": "2021-09-14T11:24:43.645960Z",
     "start_time": "2021-09-14T11:24:43.638982Z"
    }
   },
   "outputs": [
    {
     "data": {
      "text/plain": [
       "([0, 0.2, 0.4, 0.6, 0.8, 0.8, 0.8, 1.0, 1.0],\n",
       " [0,\n",
       "  0.0,\n",
       "  0.0,\n",
       "  0.0,\n",
       "  0.0,\n",
       "  0.3333333333333333,\n",
       "  0.6666666666666666,\n",
       "  0.6666666666666666,\n",
       "  1.0])"
      ]
     },
     "execution_count": 19,
     "metadata": {},
     "output_type": "execute_result"
    }
   ],
   "source": [
    "tpr_1, fpr_1"
   ]
  },
  {
   "cell_type": "code",
   "execution_count": 14,
   "id": "e34bf53b",
   "metadata": {
    "ExecuteTime": {
     "end_time": "2021-09-14T11:23:41.402007Z",
     "start_time": "2021-09-14T11:23:41.395026Z"
    }
   },
   "outputs": [
    {
     "data": {
      "text/plain": [
       "array([0.97, 0.89, 0.82, 0.75, 0.36, 0.34, 0.17, 0.12])"
      ]
     },
     "execution_count": 14,
     "metadata": {},
     "output_type": "execute_result"
    }
   ],
   "source": [
    "y_pred_2 = np.array([0.34, 0.12, 0.82, 0.89, 0.17, 0.75, 0.36, 0.97])\n",
    "y_pred_2.sort()\n",
    "y_pred_2 = y_pred_2[::-1]\n",
    "y_pred_2"
   ]
  },
  {
   "cell_type": "code",
   "execution_count": 15,
   "id": "77e18955",
   "metadata": {
    "ExecuteTime": {
     "end_time": "2021-09-14T11:23:53.770964Z",
     "start_time": "2021-09-14T11:23:53.765943Z"
    }
   },
   "outputs": [],
   "source": [
    "y_real_2 = np.array([1, 1, 1, 0, 0, 1, 1, 0])"
   ]
  },
  {
   "cell_type": "code",
   "execution_count": 20,
   "id": "027065d5",
   "metadata": {
    "ExecuteTime": {
     "end_time": "2021-09-14T11:24:54.352501Z",
     "start_time": "2021-09-14T11:24:54.151039Z"
    }
   },
   "outputs": [
    {
     "data": {
      "image/png": "[encoded data removed]",
      "text/plain": [
       "<Figure size 432x288 with 1 Axes>"
      ]
     },
     "metadata": {
      "needs_background": "light"
     },
     "output_type": "display_data"
    }
   ],
   "source": [
    "tpr2, fpr2 = draw_roc(y_pred_2, y_real_2, 5, 3, './roc2.png')"
   ]
  },
  {
   "cell_type": "code",
   "execution_count": 21,
   "id": "6294718a",
   "metadata": {
    "ExecuteTime": {
     "end_time": "2021-09-14T11:24:58.182258Z",
     "start_time": "2021-09-14T11:24:58.177272Z"
    }
   },
   "outputs": [
    {
     "data": {
      "text/plain": [
       "([0, 0.2, 0.4, 0.6, 0.6, 0.6, 0.8, 1.0, 1.0],\n",
       " [0,\n",
       "  0.0,\n",
       "  0.0,\n",
       "  0.0,\n",
       "  0.3333333333333333,\n",
       "  0.6666666666666666,\n",
       "  0.6666666666666666,\n",
       "  0.6666666666666666,\n",
       "  1.0])"
      ]
     },
     "execution_count": 21,
     "metadata": {},
     "output_type": "execute_result"
    }
   ],
   "source": [
    "tpr2, fpr2"
   ]
  },
  {
   "cell_type": "code",
   "execution_count": null,
   "id": "3683cdae",
   "metadata": {},
   "outputs": [],
   "source": []
  }
 ],
 "metadata": {
  "kernelspec": {
   "display_name": "Python 3",
   "language": "python",
   "name": "python3"
  },
  "language_info": {
   "codemirror_mode": {
    "name": "ipython",
    "version": 3
   },
   "file_extension": ".py",
   "mimetype": "text/x-python",
   "name": "python",
   "nbconvert_exporter": "python",
   "pygments_lexer": "ipython3",
   "version": "3.8.8"
  }
 },
 "nbformat": 4,
 "nbformat_minor": 5
}
