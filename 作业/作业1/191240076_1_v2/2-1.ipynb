{
 "cells": [
  {
   "cell_type": "code",
   "execution_count": 1,
   "id": "393f8e7a",
   "metadata": {},
   "outputs": [],
   "source": [
    "import numpy as np"
   ]
  },
  {
   "cell_type": "code",
   "execution_count": 2,
   "id": "82948f34",
   "metadata": {},
   "outputs": [],
   "source": [
    "X = np.array([[2., 9, 1], [9., 3, 1], [8., 3, 1], [8.,8, 1], [2., 1, 1], \n",
    "            [8., 4, 1], [4., 3, 1], [1, 8, 1], [3., 3, 1], [5, 3, 1]])\n",
    "y = np.array([290., 1054, 944, 964, 246, 948, 488, 167, 370, 598]).reshape(-1, 1)"
   ]
  },
  {
   "cell_type": "code",
   "execution_count": 4,
   "id": "33c735cb",
   "metadata": {},
   "outputs": [
    {
     "data": {
      "text/plain": [
       "array([[113.51947337],\n",
       "       [  5.65989389],\n",
       "       [ 12.57555512]])"
      ]
     },
     "execution_count": 4,
     "metadata": {},
     "output_type": "execute_result"
    }
   ],
   "source": [
    "np.linalg.inv(X.T @ X + 1. * np.identity(X.shape[1])) @ (X.T @ y)"
   ]
  }
 ],
 "metadata": {
  "kernelspec": {
   "display_name": "Python 3",
   "language": "python",
   "name": "python3"
  },
  "language_info": {
   "codemirror_mode": {
    "name": "ipython",
    "version": 3
   },
   "file_extension": ".py",
   "mimetype": "text/x-python",
   "name": "python",
   "nbconvert_exporter": "python",
   "pygments_lexer": "ipython3",
   "version": "3.8.8"
  }
 },
 "nbformat": 4,
 "nbformat_minor": 5
}
