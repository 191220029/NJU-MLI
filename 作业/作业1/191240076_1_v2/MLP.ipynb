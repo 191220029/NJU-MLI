{
 "cells": [
  {
   "cell_type": "code",
   "execution_count": 1,
   "id": "17d7a449",
   "metadata": {},
   "outputs": [],
   "source": [
    "import torch\n",
    "from torch import nn\n",
    "import csv\n",
    "from torch.utils.data import Dataset, DataLoader\n",
    "import pandas as pd\n",
    "import numpy as np\n",
    "import os\n",
    "import torch.nn.functional as F\n",
    "import matplotlib.pyplot as plt"
   ]
  },
  {
   "cell_type": "code",
   "execution_count": 2,
   "id": "f10cd4b8",
   "metadata": {},
   "outputs": [],
   "source": [
    "path = './data'\n",
    "with open(os.path.join(path, 'pendigits.tra'), 'r') as fp:\n",
    "    data = np.array(list(csv.reader(fp)))"
   ]
  },
  {
   "cell_type": "code",
   "execution_count": 3,
   "id": "79aa03f5",
   "metadata": {},
   "outputs": [
    {
     "data": {
      "text/plain": [
       "17"
      ]
     },
     "execution_count": 3,
     "metadata": {},
     "output_type": "execute_result"
    }
   ],
   "source": [
    "len(data[0])"
   ]
  },
  {
   "cell_type": "code",
   "execution_count": 4,
   "id": "5143221d",
   "metadata": {},
   "outputs": [
    {
     "data": {
      "text/plain": [
       "7494"
      ]
     },
     "execution_count": 4,
     "metadata": {},
     "output_type": "execute_result"
    }
   ],
   "source": [
    "len(data[:, :-1])"
   ]
  },
  {
   "cell_type": "markdown",
   "id": "898c9025",
   "metadata": {},
   "source": [
    "### DataLoader"
   ]
  },
  {
   "cell_type": "code",
   "execution_count": 5,
   "id": "229b6cce",
   "metadata": {},
   "outputs": [],
   "source": [
    "class PendigitsDataset(Dataset):\n",
    "    def __init__(self, filename, mode='train'):\n",
    "        self.mode = mode\n",
    "        path = './data'\n",
    "        with open(os.path.join(path, filename), 'r') as fp:\n",
    "            data = list(csv.reader(fp))\n",
    "            data = np.array(data, dtype=np.float32)\n",
    "        \n",
    "        features = data[:, :-1]\n",
    "        targets = data[:, -1]\n",
    "        \n",
    "        if mode == 'test':\n",
    "            self.features = torch.FloatTensor(features)\n",
    "            self.targets = torch.FloatTensor(targets)\n",
    "        else:\n",
    "            if mode == 'train':\n",
    "                indices = [i for i in range(len(data)) if i % 8 != 0]\n",
    "            elif mode == 'dev':\n",
    "                indices = [i for i in range(len(data)) if i % 8 == 0]\n",
    "            \n",
    "            self.features = torch.FloatTensor(features[indices])\n",
    "            self.targets = torch.FloatTensor(targets[indices])\n",
    "      \n",
    "    def __getitem__(self, index):\n",
    "        return self.features[index], self.targets[index].long()\n",
    "    \n",
    "    def __len__(self):\n",
    "        return len(self.features)"
   ]
  },
  {
   "cell_type": "code",
   "execution_count": 6,
   "id": "dd23de3d",
   "metadata": {},
   "outputs": [],
   "source": [
    "train_dataset= PendigitsDataset('pendigits.tra', 'train')\n",
    "valid_dataset = PendigitsDataset('pendigits.tra', 'dev')\n",
    "test_dataset = PendigitsDataset('pendigits.tes', 'test')"
   ]
  },
  {
   "cell_type": "code",
   "execution_count": 7,
   "id": "c5bd04bd",
   "metadata": {},
   "outputs": [],
   "source": [
    "train_loader = DataLoader(train_dataset, batch_size=64, shuffle=True)\n",
    "valid_loader = DataLoader(valid_dataset, batch_size=64, shuffle=False)\n",
    "test_loader = DataLoader(test_dataset, batch_size=64, shuffle=False)"
   ]
  },
  {
   "cell_type": "code",
   "execution_count": 8,
   "id": "ac1cb4f7",
   "metadata": {},
   "outputs": [
    {
     "name": "stdout",
     "output_type": "stream",
     "text": [
      "tensor([[ 53., 100.,  24.,  ...,  23.,  37.,   0.],\n",
      "        [ 97., 100.,  43.,  ...,  36.,   0.,   5.],\n",
      "        [  0.,  95.,  36.,  ...,  34., 100.,  39.],\n",
      "        ...,\n",
      "        [ 42.,  79.,  45.,  ...,  10., 100.,   0.],\n",
      "        [100., 100.,  66.,  ...,  50.,   5.,  46.],\n",
      "        [100., 100.,  47.,  ...,  25.,  26.,  25.]]) tensor([4, 6, 7, 3, 2, 5, 7, 4, 9, 9, 1, 2, 0, 3, 8, 3, 7, 8, 6, 6, 0, 9, 4, 1,\n",
      "        9, 9, 7, 6, 0, 6, 3, 5, 2, 6, 4, 2, 2, 7, 6, 8, 0, 1, 2, 1, 0, 5, 5, 2,\n",
      "        0, 5, 1, 7, 2, 6, 3, 6, 0, 5, 0, 6, 7, 2, 6, 6])\n"
     ]
    }
   ],
   "source": [
    "for X, y in train_loader:\n",
    "    print(X, y)\n",
    "    break"
   ]
  },
  {
   "cell_type": "markdown",
   "id": "e9e662e8",
   "metadata": {},
   "source": [
    "### 网络架构"
   ]
  },
  {
   "cell_type": "code",
   "execution_count": 9,
   "id": "cde7e34d",
   "metadata": {},
   "outputs": [],
   "source": [
    "class Linear(nn.Module):\n",
    "    def __init__(self, input_dim=16, output_dim=10):\n",
    "        super(Linear, self).__init__()\n",
    "        self.layer = nn.Linear(input_dim, output_dim)\n",
    "        \n",
    "    def forward(self, X):\n",
    "        X = X.type_as(self.layer.bias)\n",
    "        return self.layer(X)\n",
    "    \n",
    "    def save(self):\n",
    "        if not os.path.exists('./res'):\n",
    "            os.makedir('./res')\n",
    "        torch.save(self.state_dict(), './res/linear.pth')"
   ]
  },
  {
   "cell_type": "code",
   "execution_count": 10,
   "id": "7e7ded98",
   "metadata": {},
   "outputs": [],
   "source": [
    "class OnehiddenMLP(nn.Module):\n",
    "    def __init__(self, input_dim=16, output_dim=10, hidden_dim=32):\n",
    "        super(OnehiddenMLP, self).__init__()\n",
    "        self.layer1 = nn.Sequential(\n",
    "                nn.Linear(input_dim, hidden_dim),\n",
    "                nn.BatchNorm1d(hidden_dim),\n",
    "                nn.ReLU())\n",
    "        self.layer2 = nn.Linear(hidden_dim, output_dim)\n",
    "        \n",
    "    def forward(self, X):\n",
    "        X = X.type_as(self.layer2.bias)\n",
    "        X = self.layer1(X)\n",
    "        return self.layer2(X)\n",
    "    \n",
    "    def save(self):\n",
    "        if not os.path.exists('./res'):\n",
    "            os.makedir('./res')\n",
    "        torch.save(self.state_dict(), './res/one_hidden_mlp.pth')"
   ]
  },
  {
   "cell_type": "code",
   "execution_count": 11,
   "id": "2fb6bff5",
   "metadata": {},
   "outputs": [],
   "source": [
    "class MLP(nn.Module):\n",
    "    def __init__(self, input_dim=16, output_dim=10):\n",
    "        super(MLP, self).__init__()\n",
    "        self.layer1 = nn.Sequential(\n",
    "                nn.Linear(input_dim, 64),\n",
    "                nn.BatchNorm1d(64),\n",
    "                nn.ReLU())\n",
    "        self.layer2 = nn.Sequential(\n",
    "                nn.Linear(64, 32),\n",
    "                nn.BatchNorm1d(32),\n",
    "                nn.ReLU())\n",
    "        self.layer3 = nn.Sequential(\n",
    "                nn.Linear(32, 16),\n",
    "                nn.BatchNorm1d(16),\n",
    "                nn.ReLU())\n",
    "        self.layer4 = nn.Linear(16, output_dim)\n",
    "        \n",
    "    def forward(self, X):\n",
    "        X = X.type_as(self.layer4.bias)\n",
    "        X = self.layer1(X)\n",
    "        X = self.layer2(X)\n",
    "        X = self.layer3(X)\n",
    "        return self.layer4(X)\n",
    "    \n",
    "    def save(self):\n",
    "        if not os.path.exists('./res'):\n",
    "            os.makedir('./res')\n",
    "        torch.save(self.state_dict(), './res/mlp.pth')"
   ]
  },
  {
   "cell_type": "markdown",
   "id": "31da338c",
   "metadata": {},
   "source": [
    "### 训练"
   ]
  },
  {
   "cell_type": "code",
   "execution_count": 55,
   "id": "b2056fa1",
   "metadata": {},
   "outputs": [],
   "source": [
    "def train(model, train_loader, valid_loader, num_epoches, lr, wd, device='cpu'):\n",
    "    train_loss, dev_loss = [], []\n",
    "    optimizer = torch.optim.Adam(model.parameters(), lr=lr, weight_decay=wd)\n",
    "    #optimizer = torch.optim.SGD(model.parameters(), lr=lr, weight_decay=wd)\n",
    "    #optimizer = torch.optim.RMSprop(model.parameters(), lr=lr, weight_decay=wd)\n",
    "    loss = nn.CrossEntropyLoss()\n",
    "    for epoch in range(num_epoches):\n",
    "        print('epoch', epoch , end=' ')\n",
    "        model.train()\n",
    "        for X, y in train_loader:\n",
    "            X, y = X.to(device), y.to(device)\n",
    "            pred_y = model(X)\n",
    "            l = loss(input=pred_y, target=y)\n",
    "            optimizer.zero_grad()\n",
    "            l.backward()\n",
    "            optimizer.step()\n",
    "        train_loss.append(l.detach().cpu().item())\n",
    "        dev_loss.append(dev(model, valid_loader, loss, device))\n",
    "        print('train_loss: {:.2f}, dev_loss: {:.2f}'.format(train_loss[-1], dev_loss[-1]))\n",
    "    return train_loss, dev_loss\n",
    "\n",
    "def dev(model, valid_loader, loss, device):\n",
    "    model.eval()\n",
    "    correct = 0 \n",
    "    total_loss = 0\n",
    "    cnt = 0\n",
    "    for X, y in valid_loader:\n",
    "        X, y  = X.to(device), y.to(device)\n",
    "        with torch.no_grad():\n",
    "            pred_y = model(X)\n",
    "            l = loss(input=pred_y, target=y)\n",
    "            total_loss += l.detach().cpu().item()\n",
    "            correct += np.sum((torch.argmax(pred_y, dim=1) == y).numpy())\n",
    "            cnt += 1\n",
    "    print('dev accurate: {:.2f}%%'.format(correct/len(valid_loader.dataset)*100), end=' ')\n",
    "    return total_loss / cnt"
   ]
  },
  {
   "cell_type": "code",
   "execution_count": 13,
   "id": "65856fa7",
   "metadata": {},
   "outputs": [],
   "source": [
    "device = 'cuda' if torch.cuda.is_available() else 'cpu'\n",
    "model1 = Linear().to(device)"
   ]
  },
  {
   "cell_type": "code",
   "execution_count": 22,
   "id": "b592cee1",
   "metadata": {},
   "outputs": [
    {
     "name": "stdout",
     "output_type": "stream",
     "text": [
      "epoch 0 dev accurate: 83.88%% train_loss: 0.52, dev_loss: 1.12\n",
      "epoch 1 dev accurate: 85.59%% train_loss: 0.45, dev_loss: 0.72\n",
      "epoch 2 dev accurate: 85.70%% train_loss: 0.22, dev_loss: 0.59\n",
      "epoch 3 dev accurate: 85.91%% train_loss: 0.08, dev_loss: 0.60\n",
      "epoch 4 dev accurate: 90.07%% train_loss: 0.30, dev_loss: 0.52\n",
      "epoch 5 dev accurate: 90.72%% train_loss: 0.38, dev_loss: 0.48\n",
      "epoch 6 dev accurate: 90.39%% train_loss: 0.77, dev_loss: 0.44\n",
      "epoch 7 dev accurate: 89.65%% train_loss: 0.68, dev_loss: 0.50\n",
      "epoch 8 dev accurate: 87.94%% train_loss: 0.58, dev_loss: 0.70\n",
      "epoch 9 dev accurate: 89.65%% train_loss: 0.00, dev_loss: 0.55\n",
      "epoch 10 dev accurate: 86.55%% train_loss: 0.49, dev_loss: 0.75\n",
      "epoch 11 dev accurate: 87.51%% train_loss: 0.40, dev_loss: 0.54\n",
      "epoch 12 dev accurate: 89.54%% train_loss: 2.09, dev_loss: 0.72\n",
      "epoch 13 dev accurate: 90.93%% train_loss: 0.59, dev_loss: 0.60\n",
      "epoch 14 dev accurate: 90.29%% train_loss: 0.08, dev_loss: 0.55\n",
      "epoch 15 dev accurate: 87.41%% train_loss: 0.24, dev_loss: 0.79\n",
      "epoch 16 dev accurate: 90.29%% train_loss: 0.06, dev_loss: 0.43\n",
      "epoch 17 dev accurate: 91.89%% train_loss: 0.60, dev_loss: 0.42\n",
      "epoch 18 dev accurate: 89.11%% train_loss: 0.10, dev_loss: 0.63\n",
      "epoch 19 dev accurate: 92.96%% train_loss: 0.85, dev_loss: 0.45\n",
      "epoch 20 dev accurate: 89.33%% train_loss: 1.26, dev_loss: 0.69\n",
      "epoch 21 dev accurate: 88.79%% train_loss: 0.13, dev_loss: 0.78\n",
      "epoch 22 dev accurate: 89.43%% train_loss: 0.53, dev_loss: 0.62\n",
      "epoch 23 dev accurate: 91.46%% train_loss: 0.61, dev_loss: 0.42\n",
      "epoch 24 dev accurate: 91.89%% train_loss: 0.28, dev_loss: 0.47\n",
      "epoch 25 dev accurate: 88.90%% train_loss: 0.04, dev_loss: 0.65\n",
      "epoch 26 dev accurate: 84.31%% train_loss: 0.42, dev_loss: 1.05\n",
      "epoch 27 dev accurate: 89.65%% train_loss: 0.00, dev_loss: 0.72\n",
      "epoch 28 dev accurate: 92.32%% train_loss: 0.72, dev_loss: 0.57\n",
      "epoch 29 dev accurate: 85.70%% train_loss: 1.17, dev_loss: 1.09\n",
      "epoch 30 dev accurate: 90.72%% train_loss: 0.41, dev_loss: 0.57\n",
      "epoch 31 dev accurate: 92.74%% train_loss: 0.03, dev_loss: 0.51\n",
      "epoch 32 dev accurate: 91.36%% train_loss: 0.64, dev_loss: 0.49\n",
      "epoch 33 dev accurate: 91.57%% train_loss: 0.44, dev_loss: 0.50\n",
      "epoch 34 dev accurate: 92.74%% train_loss: 0.31, dev_loss: 0.60\n",
      "epoch 35 dev accurate: 90.82%% train_loss: 0.07, dev_loss: 0.67\n",
      "epoch 36 dev accurate: 92.21%% train_loss: 0.35, dev_loss: 0.63\n",
      "epoch 37 dev accurate: 92.32%% train_loss: 0.37, dev_loss: 0.52\n",
      "epoch 38 dev accurate: 91.36%% train_loss: 0.00, dev_loss: 0.58\n",
      "epoch 39 dev accurate: 91.25%% train_loss: 0.10, dev_loss: 0.56\n",
      "epoch 40 dev accurate: 91.36%% train_loss: 0.54, dev_loss: 0.56\n",
      "epoch 41 dev accurate: 90.72%% train_loss: 0.66, dev_loss: 0.69\n",
      "epoch 42 dev accurate: 91.89%% train_loss: 0.37, dev_loss: 0.59\n",
      "epoch 43 dev accurate: 90.82%% train_loss: 1.32, dev_loss: 0.64\n",
      "epoch 44 dev accurate: 92.64%% train_loss: 0.54, dev_loss: 0.48\n",
      "epoch 45 dev accurate: 92.10%% train_loss: 0.99, dev_loss: 0.45\n",
      "epoch 46 dev accurate: 90.07%% train_loss: 0.29, dev_loss: 0.68\n",
      "epoch 47 dev accurate: 89.22%% train_loss: 0.19, dev_loss: 0.82\n",
      "epoch 48 dev accurate: 92.21%% train_loss: 0.88, dev_loss: 0.55\n",
      "epoch 49 dev accurate: 92.96%% train_loss: 0.59, dev_loss: 0.57\n",
      "epoch 50 dev accurate: 93.17%% train_loss: 0.14, dev_loss: 0.57\n",
      "epoch 51 dev accurate: 92.21%% train_loss: 0.55, dev_loss: 0.49\n",
      "epoch 52 dev accurate: 91.78%% train_loss: 0.51, dev_loss: 0.53\n",
      "epoch 53 dev accurate: 90.07%% train_loss: 0.18, dev_loss: 0.63\n",
      "epoch 54 dev accurate: 90.82%% train_loss: 0.25, dev_loss: 0.57\n",
      "epoch 55 dev accurate: 92.85%% train_loss: 0.00, dev_loss: 0.51\n",
      "epoch 56 dev accurate: 92.42%% train_loss: 0.54, dev_loss: 0.57\n",
      "epoch 57 dev accurate: 89.97%% train_loss: 0.48, dev_loss: 0.70\n",
      "epoch 58 dev accurate: 92.32%% train_loss: 0.24, dev_loss: 0.56\n",
      "epoch 59 dev accurate: 92.10%% train_loss: 1.21, dev_loss: 0.59\n",
      "epoch 60 dev accurate: 92.42%% train_loss: 0.03, dev_loss: 0.61\n",
      "epoch 61 dev accurate: 86.98%% train_loss: 0.65, dev_loss: 0.83\n",
      "epoch 62 dev accurate: 89.01%% train_loss: 0.05, dev_loss: 0.79\n",
      "epoch 63 dev accurate: 91.89%% train_loss: 0.14, dev_loss: 0.62\n",
      "epoch 64 dev accurate: 91.14%% train_loss: 1.41, dev_loss: 0.63\n",
      "epoch 65 dev accurate: 90.18%% train_loss: 0.02, dev_loss: 0.66\n",
      "epoch 66 dev accurate: 91.04%% train_loss: 0.17, dev_loss: 0.63\n",
      "epoch 67 dev accurate: 89.33%% train_loss: 0.01, dev_loss: 0.67\n",
      "epoch 68 dev accurate: 90.82%% train_loss: 0.46, dev_loss: 0.68\n",
      "epoch 69 dev accurate: 91.46%% train_loss: 0.89, dev_loss: 0.66\n",
      "epoch 70 dev accurate: 88.05%% train_loss: 2.44, dev_loss: 1.17\n",
      "epoch 71 dev accurate: 91.57%% train_loss: 1.03, dev_loss: 0.60\n",
      "epoch 72 dev accurate: 92.10%% train_loss: 0.56, dev_loss: 0.63\n",
      "epoch 73 dev accurate: 92.74%% train_loss: 0.46, dev_loss: 0.51\n",
      "epoch 74 dev accurate: 86.23%% train_loss: 0.22, dev_loss: 0.81\n",
      "epoch 75 dev accurate: 91.25%% train_loss: 0.00, dev_loss: 0.67\n",
      "epoch 76 dev accurate: 89.86%% train_loss: 1.69, dev_loss: 0.80\n",
      "epoch 77 dev accurate: 90.29%% train_loss: 1.33, dev_loss: 0.86\n",
      "epoch 78 dev accurate: 93.38%% train_loss: 1.21, dev_loss: 0.65\n",
      "epoch 79 dev accurate: 92.32%% train_loss: 0.30, dev_loss: 0.63\n",
      "epoch 80 dev accurate: 90.93%% train_loss: 0.01, dev_loss: 0.67\n",
      "epoch 81 dev accurate: 90.18%% train_loss: 0.77, dev_loss: 0.53\n",
      "epoch 82 dev accurate: 89.65%% train_loss: 0.03, dev_loss: 0.77\n",
      "epoch 83 dev accurate: 90.72%% train_loss: 0.00, dev_loss: 0.60\n",
      "epoch 84 dev accurate: 91.36%% train_loss: 0.59, dev_loss: 0.61\n",
      "epoch 85 dev accurate: 92.21%% train_loss: 1.14, dev_loss: 0.60\n",
      "epoch 86 dev accurate: 92.10%% train_loss: 0.12, dev_loss: 0.66\n",
      "epoch 87 dev accurate: 91.89%% train_loss: 0.81, dev_loss: 0.56\n",
      "epoch 88 dev accurate: 93.17%% train_loss: 0.10, dev_loss: 0.48\n",
      "epoch 89 dev accurate: 92.64%% train_loss: 0.69, dev_loss: 0.57\n",
      "epoch 90 dev accurate: 93.49%% train_loss: 0.66, dev_loss: 0.56\n",
      "epoch 91 dev accurate: 92.64%% train_loss: 0.14, dev_loss: 0.58\n",
      "epoch 92 dev accurate: 92.42%% train_loss: 0.02, dev_loss: 0.68\n",
      "epoch 93 dev accurate: 92.42%% train_loss: 0.37, dev_loss: 0.52\n",
      "epoch 94 dev accurate: 89.75%% train_loss: 0.11, dev_loss: 0.75\n",
      "epoch 95 dev accurate: 90.93%% train_loss: 1.13, dev_loss: 0.68\n",
      "epoch 96 dev accurate: 93.28%% train_loss: 0.57, dev_loss: 0.65\n",
      "epoch 97 dev accurate: 93.49%% train_loss: 0.00, dev_loss: 0.49\n",
      "epoch 98 dev accurate: 92.42%% train_loss: 0.03, dev_loss: 0.61\n",
      "epoch 99 dev accurate: 88.69%% train_loss: 0.47, dev_loss: 0.82\n"
     ]
    }
   ],
   "source": [
    "train_loss1, valid_loss1 = train(model1, train_loader, valid_loader, 100, 1e-2, 1e-4,device)"
   ]
  },
  {
   "cell_type": "code",
   "execution_count": 42,
   "id": "f792ba04",
   "metadata": {},
   "outputs": [
    {
     "name": "stdout",
     "output_type": "stream",
     "text": [
      "epoch 0 dev accurate: 95.62%% train_loss: 0.11, dev_loss: 0.13\n",
      "epoch 1 dev accurate: 95.41%% train_loss: 0.08, dev_loss: 0.14\n",
      "epoch 2 dev accurate: 98.83%% train_loss: 0.04, dev_loss: 0.05\n",
      "epoch 3 dev accurate: 98.08%% train_loss: 0.07, dev_loss: 0.06\n",
      "epoch 4 dev accurate: 97.55%% train_loss: 0.22, dev_loss: 0.08\n",
      "epoch 5 dev accurate: 98.29%% train_loss: 0.01, dev_loss: 0.05\n",
      "epoch 6 dev accurate: 96.91%% train_loss: 0.33, dev_loss: 0.09\n",
      "epoch 7 dev accurate: 94.56%% train_loss: 0.08, dev_loss: 0.18\n",
      "epoch 8 dev accurate: 98.19%% train_loss: 0.02, dev_loss: 0.05\n",
      "epoch 9 dev accurate: 97.65%% train_loss: 0.04, dev_loss: 0.07\n",
      "epoch 10 dev accurate: 98.40%% train_loss: 0.03, dev_loss: 0.05\n",
      "epoch 11 dev accurate: 97.97%% train_loss: 0.08, dev_loss: 0.06\n",
      "epoch 12 dev accurate: 97.65%% train_loss: 0.18, dev_loss: 0.07\n",
      "epoch 13 dev accurate: 98.61%% train_loss: 0.12, dev_loss: 0.05\n",
      "epoch 14 dev accurate: 99.04%% train_loss: 0.01, dev_loss: 0.03\n",
      "epoch 15 dev accurate: 99.47%% train_loss: 0.00, dev_loss: 0.03\n",
      "epoch 16 dev accurate: 94.98%% train_loss: 0.12, dev_loss: 0.15\n",
      "epoch 17 dev accurate: 99.36%% train_loss: 0.01, dev_loss: 0.02\n",
      "epoch 18 dev accurate: 96.69%% train_loss: 0.20, dev_loss: 0.09\n",
      "epoch 19 dev accurate: 99.04%% train_loss: 0.01, dev_loss: 0.04\n",
      "epoch 20 dev accurate: 98.51%% train_loss: 0.02, dev_loss: 0.03\n",
      "epoch 21 dev accurate: 98.83%% train_loss: 0.01, dev_loss: 0.03\n",
      "epoch 22 dev accurate: 98.93%% train_loss: 0.02, dev_loss: 0.04\n",
      "epoch 23 dev accurate: 99.36%% train_loss: 0.02, dev_loss: 0.03\n",
      "epoch 24 dev accurate: 98.61%% train_loss: 0.01, dev_loss: 0.05\n",
      "epoch 25 dev accurate: 99.47%% train_loss: 0.01, dev_loss: 0.02\n",
      "epoch 26 dev accurate: 99.25%% train_loss: 0.00, dev_loss: 0.03\n",
      "epoch 27 dev accurate: 99.68%% train_loss: 0.01, dev_loss: 0.02\n",
      "epoch 28 dev accurate: 99.04%% train_loss: 0.03, dev_loss: 0.03\n",
      "epoch 29 dev accurate: 99.15%% train_loss: 0.30, dev_loss: 0.04\n",
      "epoch 30 dev accurate: 99.57%% train_loss: 0.01, dev_loss: 0.02\n",
      "epoch 31 dev accurate: 99.15%% train_loss: 0.04, dev_loss: 0.03\n",
      "epoch 32 dev accurate: 99.25%% train_loss: 0.02, dev_loss: 0.02\n",
      "epoch 33 dev accurate: 98.83%% train_loss: 0.04, dev_loss: 0.03\n",
      "epoch 34 dev accurate: 99.57%% train_loss: 0.01, dev_loss: 0.02\n",
      "epoch 35 dev accurate: 99.57%% train_loss: 0.00, dev_loss: 0.02\n",
      "epoch 36 dev accurate: 99.68%% train_loss: 0.01, dev_loss: 0.03\n",
      "epoch 37 dev accurate: 99.25%% train_loss: 0.03, dev_loss: 0.04\n",
      "epoch 38 dev accurate: 97.76%% train_loss: 0.02, dev_loss: 0.06\n",
      "epoch 39 dev accurate: 99.36%% train_loss: 0.00, dev_loss: 0.03\n",
      "epoch 40 dev accurate: 97.76%% train_loss: 0.00, dev_loss: 0.07\n",
      "epoch 41 dev accurate: 99.36%% train_loss: 0.03, dev_loss: 0.02\n",
      "epoch 42 dev accurate: 98.83%% train_loss: 0.06, dev_loss: 0.04\n",
      "epoch 43 dev accurate: 99.47%% train_loss: 0.01, dev_loss: 0.02\n",
      "epoch 44 dev accurate: 99.25%% train_loss: 0.04, dev_loss: 0.03\n",
      "epoch 45 dev accurate: 98.93%% train_loss: 0.00, dev_loss: 0.03\n",
      "epoch 46 dev accurate: 98.19%% train_loss: 0.19, dev_loss: 0.07\n",
      "epoch 47 dev accurate: 99.57%% train_loss: 0.00, dev_loss: 0.02\n",
      "epoch 48 dev accurate: 91.78%% train_loss: 0.10, dev_loss: 0.30\n",
      "epoch 49 dev accurate: 99.68%% train_loss: 0.01, dev_loss: 0.02\n",
      "epoch 50 dev accurate: 97.87%% train_loss: 0.10, dev_loss: 0.07\n",
      "epoch 51 dev accurate: 99.57%% train_loss: 0.02, dev_loss: 0.03\n",
      "epoch 52 dev accurate: 99.47%% train_loss: 0.00, dev_loss: 0.03\n",
      "epoch 53 dev accurate: 99.47%% train_loss: 0.01, dev_loss: 0.02\n",
      "epoch 54 dev accurate: 99.47%% train_loss: 0.01, dev_loss: 0.02\n",
      "epoch 55 dev accurate: 99.36%% train_loss: 0.02, dev_loss: 0.03\n",
      "epoch 56 dev accurate: 99.68%% train_loss: 0.00, dev_loss: 0.02\n",
      "epoch 57 dev accurate: 99.04%% train_loss: 0.07, dev_loss: 0.04\n",
      "epoch 58 dev accurate: 99.25%% train_loss: 0.01, dev_loss: 0.03\n",
      "epoch 59 dev accurate: 99.47%% train_loss: 0.00, dev_loss: 0.02\n",
      "epoch 60 dev accurate: 99.57%% train_loss: 0.02, dev_loss: 0.02\n",
      "epoch 61 dev accurate: 99.57%% train_loss: 0.00, dev_loss: 0.02\n",
      "epoch 62 dev accurate: 96.69%% train_loss: 0.11, dev_loss: 0.11\n",
      "epoch 63 dev accurate: 98.19%% train_loss: 0.13, dev_loss: 0.06\n",
      "epoch 64 dev accurate: 98.51%% train_loss: 0.01, dev_loss: 0.04\n",
      "epoch 65 dev accurate: 99.47%% train_loss: 0.01, dev_loss: 0.03\n",
      "epoch 66 dev accurate: 81.96%% train_loss: 0.14, dev_loss: 0.74\n",
      "epoch 67 dev accurate: 99.25%% train_loss: 0.02, dev_loss: 0.02\n",
      "epoch 68 dev accurate: 99.68%% train_loss: 0.00, dev_loss: 0.02\n",
      "epoch 69 dev accurate: 96.80%% train_loss: 0.03, dev_loss: 0.11\n",
      "epoch 70 dev accurate: 99.36%% train_loss: 0.00, dev_loss: 0.02\n",
      "epoch 71 dev accurate: 98.83%% train_loss: 0.01, dev_loss: 0.03\n",
      "epoch 72 dev accurate: 99.57%% train_loss: 0.00, dev_loss: 0.02\n",
      "epoch 73 dev accurate: 99.36%% train_loss: 0.00, dev_loss: 0.02\n",
      "epoch 74 dev accurate: 88.37%% train_loss: 0.08, dev_loss: 0.46\n",
      "epoch 75 dev accurate: 96.37%% train_loss: 0.21, dev_loss: 0.11\n",
      "epoch 76 dev accurate: 93.17%% train_loss: 0.18, dev_loss: 0.23\n",
      "epoch 77 dev accurate: 99.68%% train_loss: 0.01, dev_loss: 0.02\n",
      "epoch 78 dev accurate: 99.04%% train_loss: 0.02, dev_loss: 0.03\n",
      "epoch 79 dev accurate: 96.91%% train_loss: 0.04, dev_loss: 0.11\n",
      "epoch 80 dev accurate: 98.83%% train_loss: 0.01, dev_loss: 0.03\n",
      "epoch 81 dev accurate: 99.57%% train_loss: 0.02, dev_loss: 0.02\n",
      "epoch 82 dev accurate: 98.29%% train_loss: 0.01, dev_loss: 0.06\n",
      "epoch 83 dev accurate: 98.93%% train_loss: 0.14, dev_loss: 0.05\n",
      "epoch 84 dev accurate: 99.36%% train_loss: 0.01, dev_loss: 0.03\n",
      "epoch 85 dev accurate: 99.57%% train_loss: 0.01, dev_loss: 0.03\n",
      "epoch 86 dev accurate: 97.87%% train_loss: 0.11, dev_loss: 0.06\n",
      "epoch 87 dev accurate: 85.81%% train_loss: 0.10, dev_loss: 0.70\n",
      "epoch 88 dev accurate: 99.47%% train_loss: 0.02, dev_loss: 0.03\n",
      "epoch 89 dev accurate: 99.57%% train_loss: 0.01, dev_loss: 0.02\n",
      "epoch 90 dev accurate: 99.36%% train_loss: 0.00, dev_loss: 0.02\n",
      "epoch 91 dev accurate: 99.36%% train_loss: 0.00, dev_loss: 0.03\n",
      "epoch 92 dev accurate: 99.57%% train_loss: 0.01, dev_loss: 0.02\n",
      "epoch 93 dev accurate: 99.25%% train_loss: 0.02, dev_loss: 0.02\n",
      "epoch 94 dev accurate: 99.25%% train_loss: 0.01, dev_loss: 0.03\n",
      "epoch 95 dev accurate: 98.93%% train_loss: 0.02, dev_loss: 0.05\n",
      "epoch 96 dev accurate: 99.68%% train_loss: 0.01, dev_loss: 0.02\n",
      "epoch 97 dev accurate: 99.36%% train_loss: 0.00, dev_loss: 0.02\n",
      "epoch 98 dev accurate: 97.76%% train_loss: 0.12, dev_loss: 0.07\n",
      "epoch 99 dev accurate: 99.25%% train_loss: 0.02, dev_loss: 0.04\n"
     ]
    }
   ],
   "source": [
    "model2 = OnehiddenMLP().to(device)\n",
    "train_loss2, valid_loss2 = train(model2, train_loader, valid_loader, 100, 1e-2, 1e-4,device)"
   ]
  },
  {
   "cell_type": "code",
   "execution_count": 56,
   "id": "e20ccd0b",
   "metadata": {},
   "outputs": [
    {
     "name": "stdout",
     "output_type": "stream",
     "text": [
      "epoch 0 dev accurate: 95.73%% train_loss: 0.17, dev_loss: 0.18\n",
      "epoch 1 dev accurate: 97.23%% train_loss: 0.13, dev_loss: 0.08\n",
      "epoch 2 dev accurate: 99.15%% train_loss: 0.13, dev_loss: 0.03\n",
      "epoch 3 dev accurate: 98.40%% train_loss: 0.07, dev_loss: 0.06\n",
      "epoch 4 dev accurate: 99.04%% train_loss: 0.42, dev_loss: 0.04\n",
      "epoch 5 dev accurate: 98.40%% train_loss: 0.26, dev_loss: 0.05\n",
      "epoch 6 dev accurate: 99.15%% train_loss: 0.01, dev_loss: 0.02\n",
      "epoch 7 dev accurate: 98.40%% train_loss: 0.04, dev_loss: 0.04\n",
      "epoch 8 dev accurate: 98.29%% train_loss: 0.06, dev_loss: 0.06\n",
      "epoch 9 dev accurate: 99.68%% train_loss: 0.02, dev_loss: 0.02\n",
      "epoch 10 dev accurate: 99.36%% train_loss: 0.02, dev_loss: 0.03\n",
      "epoch 11 dev accurate: 99.36%% train_loss: 0.02, dev_loss: 0.02\n",
      "epoch 12 dev accurate: 98.83%% train_loss: 0.21, dev_loss: 0.04\n",
      "epoch 13 dev accurate: 99.57%% train_loss: 0.00, dev_loss: 0.02\n",
      "epoch 14 dev accurate: 99.68%% train_loss: 0.02, dev_loss: 0.01\n",
      "epoch 15 dev accurate: 99.36%% train_loss: 0.04, dev_loss: 0.02\n",
      "epoch 16 dev accurate: 99.47%% train_loss: 0.07, dev_loss: 0.01\n",
      "epoch 17 dev accurate: 98.83%% train_loss: 0.04, dev_loss: 0.04\n",
      "epoch 18 dev accurate: 99.57%% train_loss: 0.00, dev_loss: 0.02\n",
      "epoch 19 dev accurate: 99.36%% train_loss: 0.00, dev_loss: 0.03\n",
      "epoch 20 dev accurate: 99.15%% train_loss: 0.08, dev_loss: 0.02\n",
      "epoch 21 dev accurate: 99.36%% train_loss: 0.04, dev_loss: 0.03\n",
      "epoch 22 dev accurate: 99.68%% train_loss: 0.15, dev_loss: 0.01\n",
      "epoch 23 dev accurate: 99.89%% train_loss: 0.02, dev_loss: 0.01\n",
      "epoch 24 dev accurate: 97.44%% train_loss: 0.00, dev_loss: 0.10\n",
      "epoch 25 dev accurate: 99.79%% train_loss: 0.02, dev_loss: 0.01\n",
      "epoch 26 dev accurate: 99.47%% train_loss: 0.00, dev_loss: 0.02\n",
      "epoch 27 dev accurate: 99.79%% train_loss: 0.05, dev_loss: 0.01\n",
      "epoch 28 dev accurate: 99.36%% train_loss: 0.01, dev_loss: 0.02\n",
      "epoch 29 dev accurate: 99.36%% train_loss: 0.17, dev_loss: 0.01\n",
      "epoch 30 dev accurate: 99.36%% train_loss: 0.01, dev_loss: 0.02\n",
      "epoch 31 dev accurate: 99.68%% train_loss: 0.20, dev_loss: 0.01\n",
      "epoch 32 dev accurate: 99.04%% train_loss: 0.01, dev_loss: 0.04\n",
      "epoch 33 dev accurate: 99.36%% train_loss: 0.08, dev_loss: 0.02\n",
      "epoch 34 dev accurate: 98.40%% train_loss: 0.05, dev_loss: 0.08\n",
      "epoch 35 dev accurate: 99.47%% train_loss: 0.01, dev_loss: 0.02\n",
      "epoch 36 dev accurate: 99.36%% train_loss: 0.01, dev_loss: 0.03\n",
      "epoch 37 dev accurate: 99.57%% train_loss: 0.03, dev_loss: 0.02\n",
      "epoch 38 dev accurate: 99.25%% train_loss: 0.00, dev_loss: 0.03\n",
      "epoch 39 dev accurate: 99.04%% train_loss: 0.02, dev_loss: 0.03\n",
      "epoch 40 dev accurate: 99.25%% train_loss: 0.01, dev_loss: 0.03\n",
      "epoch 41 dev accurate: 99.36%% train_loss: 0.02, dev_loss: 0.03\n",
      "epoch 42 dev accurate: 99.04%% train_loss: 0.01, dev_loss: 0.03\n",
      "epoch 43 dev accurate: 99.79%% train_loss: 0.00, dev_loss: 0.01\n",
      "epoch 44 dev accurate: 99.47%% train_loss: 0.01, dev_loss: 0.02\n",
      "epoch 45 dev accurate: 99.47%% train_loss: 0.11, dev_loss: 0.02\n",
      "epoch 46 dev accurate: 99.25%% train_loss: 0.17, dev_loss: 0.02\n",
      "epoch 47 dev accurate: 99.57%% train_loss: 0.02, dev_loss: 0.02\n",
      "epoch 48 dev accurate: 99.47%% train_loss: 0.03, dev_loss: 0.02\n",
      "epoch 49 dev accurate: 99.68%% train_loss: 0.01, dev_loss: 0.01\n",
      "epoch 50 dev accurate: 98.83%% train_loss: 0.00, dev_loss: 0.05\n",
      "epoch 51 dev accurate: 99.57%% train_loss: 0.14, dev_loss: 0.02\n",
      "epoch 52 dev accurate: 99.57%% train_loss: 0.10, dev_loss: 0.02\n",
      "epoch 53 dev accurate: 99.25%% train_loss: 0.40, dev_loss: 0.03\n",
      "epoch 54 dev accurate: 99.57%% train_loss: 0.00, dev_loss: 0.01\n",
      "epoch 55 dev accurate: 99.79%% train_loss: 0.01, dev_loss: 0.02\n",
      "epoch 56 dev accurate: 97.76%% train_loss: 0.00, dev_loss: 0.08\n",
      "epoch 57 dev accurate: 99.15%% train_loss: 0.01, dev_loss: 0.03\n",
      "epoch 58 dev accurate: 99.79%% train_loss: 0.01, dev_loss: 0.02\n",
      "epoch 59 dev accurate: 99.68%% train_loss: 0.21, dev_loss: 0.02\n",
      "epoch 60 dev accurate: 99.47%% train_loss: 0.02, dev_loss: 0.03\n",
      "epoch 61 dev accurate: 99.57%% train_loss: 0.06, dev_loss: 0.02\n",
      "epoch 62 dev accurate: 99.79%% train_loss: 0.00, dev_loss: 0.02\n",
      "epoch 63 dev accurate: 99.57%% train_loss: 0.02, dev_loss: 0.03\n",
      "epoch 64 dev accurate: 99.57%% train_loss: 0.01, dev_loss: 0.02\n",
      "epoch 65 dev accurate: 99.47%% train_loss: 0.03, dev_loss: 0.01\n",
      "epoch 66 dev accurate: 98.51%% train_loss: 0.15, dev_loss: 0.05\n",
      "epoch 67 dev accurate: 99.79%% train_loss: 0.00, dev_loss: 0.02\n",
      "epoch 68 dev accurate: 98.83%% train_loss: 0.00, dev_loss: 0.05\n",
      "epoch 69 dev accurate: 99.47%% train_loss: 0.02, dev_loss: 0.02\n",
      "epoch 70 dev accurate: 99.57%% train_loss: 0.07, dev_loss: 0.02\n",
      "epoch 71 dev accurate: 99.36%% train_loss: 0.00, dev_loss: 0.03\n",
      "epoch 72 dev accurate: 99.47%% train_loss: 0.02, dev_loss: 0.02\n",
      "epoch 73 dev accurate: 99.68%% train_loss: 0.00, dev_loss: 0.01\n",
      "epoch 74 dev accurate: 99.25%% train_loss: 0.00, dev_loss: 0.02\n",
      "epoch 75 dev accurate: 99.57%% train_loss: 0.16, dev_loss: 0.03\n",
      "epoch 76 dev accurate: 99.47%% train_loss: 0.01, dev_loss: 0.02\n",
      "epoch 77 dev accurate: 98.61%% train_loss: 0.01, dev_loss: 0.04\n",
      "epoch 78 dev accurate: 99.36%% train_loss: 0.00, dev_loss: 0.02\n",
      "epoch 79 dev accurate: 99.25%% train_loss: 0.02, dev_loss: 0.03\n",
      "epoch 80 dev accurate: 99.47%% train_loss: 0.10, dev_loss: 0.02\n",
      "epoch 81 dev accurate: 99.57%% train_loss: 0.09, dev_loss: 0.02\n",
      "epoch 82 dev accurate: 99.68%% train_loss: 0.01, dev_loss: 0.01\n",
      "epoch 83 dev accurate: 99.25%% train_loss: 0.01, dev_loss: 0.03\n",
      "epoch 84 dev accurate: 99.36%% train_loss: 0.01, dev_loss: 0.03\n",
      "epoch 85 dev accurate: 99.57%% train_loss: 0.01, dev_loss: 0.02\n",
      "epoch 86 dev accurate: 99.79%% train_loss: 0.01, dev_loss: 0.01\n",
      "epoch 87 dev accurate: 99.57%% train_loss: 0.00, dev_loss: 0.02\n",
      "epoch 88 dev accurate: 99.47%% train_loss: 0.01, dev_loss: 0.03\n",
      "epoch 89 dev accurate: 99.68%% train_loss: 0.01, dev_loss: 0.02\n",
      "epoch 90 dev accurate: 99.57%% train_loss: 0.03, dev_loss: 0.01\n",
      "epoch 91 dev accurate: 99.57%% train_loss: 0.04, dev_loss: 0.02\n",
      "epoch 92 dev accurate: 98.40%% train_loss: 0.03, dev_loss: 0.04\n",
      "epoch 93 dev accurate: 99.04%% train_loss: 0.01, dev_loss: 0.03\n",
      "epoch 94 dev accurate: 98.93%% train_loss: 0.02, dev_loss: 0.03\n",
      "epoch 95 dev accurate: 99.47%% train_loss: 0.01, dev_loss: 0.02\n",
      "epoch 96 dev accurate: 98.93%% train_loss: 0.02, dev_loss: 0.03\n",
      "epoch 97 dev accurate: 99.36%% train_loss: 0.05, dev_loss: 0.02\n",
      "epoch 98 dev accurate: 99.68%% train_loss: 0.01, dev_loss: 0.02\n",
      "epoch 99 dev accurate: 99.57%% train_loss: 0.01, dev_loss: 0.02\n"
     ]
    }
   ],
   "source": [
    "model3 = MLP().to(device)\n",
    "train_loss3, valid_loss3 = train(model3, train_loader, valid_loader, 100, 1e-2, 1e-4,device)"
   ]
  },
  {
   "cell_type": "markdown",
   "id": "daf64776",
   "metadata": {},
   "source": [
    "### Predict"
   ]
  },
  {
   "cell_type": "code",
   "execution_count": 61,
   "id": "fe7a71c7",
   "metadata": {},
   "outputs": [
    {
     "name": "stdout",
     "output_type": "stream",
     "text": [
      "test_accuracy: 84.93%\n"
     ]
    }
   ],
   "source": [
    "correct = 0\n",
    "for X, y in test_loader:\n",
    "    correct += np.sum((torch.argmax(model1(X), dim=1)==y).numpy())\n",
    "accu = correct/len(test_loader.dataset)*100\n",
    "print(\"test_accuracy: {:.2f}%\".format(accu))"
   ]
  },
  {
   "cell_type": "code",
   "execution_count": 60,
   "id": "60783183",
   "metadata": {},
   "outputs": [
    {
     "name": "stdout",
     "output_type": "stream",
     "text": [
      "test_accuracy: 96.31%\n"
     ]
    }
   ],
   "source": [
    "correct = 0\n",
    "for X, y in test_loader:\n",
    "    correct += np.sum((torch.argmax(model2(X), dim=1)==y).numpy())\n",
    "accu = correct/len(test_loader.dataset)*100\n",
    "print(\"test_accuracy: {:.2f}%\".format(accu))\n",
    "#model2.save()"
   ]
  },
  {
   "cell_type": "code",
   "execution_count": 58,
   "id": "2387e01b",
   "metadata": {},
   "outputs": [
    {
     "name": "stdout",
     "output_type": "stream",
     "text": [
      "test_accuracy: 97.68%\n"
     ]
    }
   ],
   "source": [
    "correct = 0\n",
    "for X, y in test_loader:\n",
    "    correct += np.sum((torch.argmax(model3(X), dim=1)==y).numpy())\n",
    "accu = correct/len(test_loader.dataset)*100\n",
    "print(\"test_accuracy: {:.2f}%\".format(accu))\n",
    "#model3.save()"
   ]
  },
  {
   "cell_type": "code",
   "execution_count": 47,
   "id": "5e99220a",
   "metadata": {},
   "outputs": [
    {
     "data": {
      "image/png": "[encoded data removed]",
      "text/plain": [
       "<Figure size 432x288 with 1 Axes>"
      ]
     },
     "metadata": {
      "needs_background": "light"
     },
     "output_type": "display_data"
    }
   ],
   "source": [
    "os.environ[\"KMP_DUPLICATE_LIB_OK\"] = \"TRUE\"\n",
    "plt.plot(train_loss1, label='train_loss_linear')\n",
    "plt.plot(valid_loss1, label='valid_loss_linear')\n",
    "plt.plot(train_loss2, label='train_loss_one_hidden_dim')\n",
    "plt.plot(valid_loss2, label='valid_loss_one_hidden_dim')\n",
    "plt.plot(train_loss3, label='train_loss_mlp')\n",
    "plt.plot(valid_loss3, label='valid_loss_mlp')\n",
    "plt.legend()\n",
    "plt.show()"
   ]
  },
  {
   "cell_type": "code",
   "execution_count": null,
   "id": "9f25d359",
   "metadata": {},
   "outputs": [],
   "source": []
  }
 ],
 "metadata": {
  "kernelspec": {
   "display_name": "Python 3",
   "language": "python",
   "name": "python3"
  },
  "language_info": {
   "codemirror_mode": {
    "name": "ipython",
    "version": 3
   },
   "file_extension": ".py",
   "mimetype": "text/x-python",
   "name": "python",
   "nbconvert_exporter": "python",
   "pygments_lexer": "ipython3",
   "version": "3.8.8"
  }
 },
 "nbformat": 4,
 "nbformat_minor": 5
}
