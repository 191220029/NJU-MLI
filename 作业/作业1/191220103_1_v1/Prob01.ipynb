{
 "cells": [
  {
   "cell_type": "code",
   "execution_count": 78,
   "id": "6b78c7ea",
   "metadata": {},
   "outputs": [
    {
     "name": "stdout",
     "output_type": "stream",
     "text": [
      "The autoreload extension is already loaded. To reload it, use:\n",
      "  %reload_ext autoreload\n"
     ]
    }
   ],
   "source": [
    "import numpy as np\n",
    "import matplotlib.pyplot as plt\n",
    "import seaborn as sns\n",
    "import warnings\n",
    "from sklearn.linear_model import LogisticRegression\n",
    "from sklearn.model_selection import cross_validate\n",
    "\n",
    "warnings.filterwarnings('ignore')\n",
    "\n",
    "# a bit setup\n",
    "%load_ext autoreload\n",
    "%autoreload 2\n",
    "%matplotlib inline"
   ]
  },
  {
   "cell_type": "code",
   "execution_count": 79,
   "id": "af3ce736",
   "metadata": {},
   "outputs": [
    {
     "name": "stdout",
     "output_type": "stream",
     "text": [
      "1484 instances loaded\n",
      "10 labels in total\n"
     ]
    }
   ],
   "source": [
    "def load_yeast_data(data_path = './data/yeast.data'):\n",
    "    file = open(data_path)\n",
    "    lines = file.readlines()\n",
    "    file.close()\n",
    "    X = []\n",
    "    y = []\n",
    "    label_dict = {}\n",
    "    id = 0\n",
    "    for line in lines:\n",
    "        line = line.split()\n",
    "        if (len(line) == 0): # skip empty line\n",
    "            continue\n",
    "        X.append([float(attr) for attr in line[1 : -1]])\n",
    "        label = line[-1]\n",
    "        # convert label to integer\n",
    "        if (label in label_dict):\n",
    "            y.append(label_dict[label])\n",
    "        else:\n",
    "            label_dict[label] = id\n",
    "            y.append(id)\n",
    "            id += 1\n",
    "    label_dict = {i : key for i, key in enumerate(label_dict)}\n",
    "    return np.array(X), np.array(y), label_dict\n",
    "\n",
    "# load data from disk\n",
    "X, y, label_dict = load_yeast_data()\n",
    "assert X.shape[0] == y.shape[0], 'data mismatch'\n",
    "print(\"%d instances loaded\" % (X.shape[0],))\n",
    "print(\"%d labels in total\" % (len(label_dict),))"
   ]
  },
  {
   "cell_type": "code",
   "execution_count": 80,
   "id": "36828aa4",
   "metadata": {},
   "outputs": [
    {
     "name": "stdout",
     "output_type": "stream",
     "text": [
      "[0.5  0.62 0.54 0.66 0.5  0.   0.49 0.22] --> MIT\n",
      "[0.25 0.41 0.47 0.14 0.5  0.   0.56 0.68] --> NUC\n",
      "[0.91 0.77 0.34 0.47 0.5  0.   0.52 0.31] --> ME1\n",
      "data shape: (1484, 8) (1484,)\n"
     ]
    }
   ],
   "source": [
    "# see some data examples\n",
    "idx = np.random.randint(0, X.shape[0], 3)\n",
    "for i in idx:\n",
    "    print(\"{} --> {}\".format(X[i], label_dict[y[i]]))\n",
    "\n",
    "print('data shape:', X.shape, y.shape)"
   ]
  },
  {
   "cell_type": "code",
   "execution_count": 81,
   "id": "7ea6e9fb",
   "metadata": {},
   "outputs": [
    {
     "data": {
      "image/png": "[encoded data removed]",
      "text/plain": [
       "<Figure size 432x288 with 1 Axes>"
      ]
     },
     "metadata": {
      "needs_background": "light"
     },
     "output_type": "display_data"
    }
   ],
   "source": [
    "# see distribution of the labels\n",
    "ax = sns.countplot(x = [label_dict[i] for i in y])\n",
    "ax.set_title('Distribution of Classes');"
   ]
  },
  {
   "cell_type": "code",
   "execution_count": 82,
   "id": "d8b7fe85",
   "metadata": {},
   "outputs": [
    {
     "name": "stdout",
     "output_type": "stream",
     "text": [
      "train: (994, 8) (994,)\n",
      "test: (490, 8) (490,)\n"
     ]
    }
   ],
   "source": [
    "# the distribution is imbalance, but we'll use logistic regression directly anyway\n",
    "N = X.shape[0]\n",
    "idx = list(range(N))\n",
    "np.random.shuffle(idx)\n",
    "\n",
    "# 2/3 for training(include validation), 1/3 for test\n",
    "X_train, y_train = X[idx[: int(N * 0.67)], :], y[idx[: int(N * 0.67)]]\n",
    "X_test, y_test = X[idx[int(N * 0.67) :], :], y[idx[int(N * 0.67) :]]\n",
    "\n",
    "print('train:', X_train.shape, y_train.shape)\n",
    "print('test:', X_test.shape, y_test.shape)"
   ]
  },
  {
   "cell_type": "code",
   "execution_count": 83,
   "id": "4f3b17b3",
   "metadata": {},
   "outputs": [
    {
     "name": "stdout",
     "output_type": "stream",
     "text": [
      "train set for OvO: (795, 8) (795,)\n",
      "val set for OvO: (199, 8) (199,)\n",
      "45 classifiers trained.\n",
      "validation score: 0.3417085427135678\n",
      "CPU times: user 107 ms, sys: 3.84 ms, total: 110 ms\n",
      "Wall time: 108 ms\n"
     ]
    }
   ],
   "source": [
    "%%time\n",
    "# this block implements training for OvO classification\n",
    "\n",
    "n_classes = len(label_dict)\n",
    "\n",
    "# split again for validation\n",
    "n_train = X_train.shape[0]\n",
    "X_train_ovo, y_train_ovo = X_train[: int(n_train * 0.8), :], y_train[: int(n_train * 0.8)]\n",
    "X_val_ovo, y_val_ovo = X_train[int(n_train * 0.8) :, :], y_train[int(n_train * 0.8) :]\n",
    "print('train set for OvO:', X_train_ovo.shape, y_train_ovo.shape)\n",
    "print('val set for OvO:', X_val_ovo.shape, y_val_ovo.shape)\n",
    "\n",
    "# fetch the data pair\n",
    "def fetch_ovo_binary(X, y, pos_class, neg_class):\n",
    "    X_selected = []\n",
    "    y_selected = []\n",
    "    for i in y:\n",
    "        if (i == pos_class or i == neg_class):\n",
    "            X_selected.append(X[i, :])\n",
    "            y_selected.append(1 if i == pos_class else 0)\n",
    "    return np.array(X_selected), np.array(y_selected)\n",
    "\n",
    "# set some hyperparameters\n",
    "# weight_decay_inv = [0.1, 1, 10]\n",
    "regular_inv = 0.1\n",
    "\n",
    "# get all classifiers\n",
    "classifiers = []\n",
    "for pos_class in range(0, n_classes - 1):\n",
    "    for neg_class in range(pos_class + 1, n_classes):\n",
    "        X_selected, y_selected = fetch_ovo_binary(X_train_ovo, y_train_ovo, pos_class, neg_class)\n",
    "        model = LogisticRegression(C = regular_inv, class_weight = None, solver = 'lbfgs', multi_class = 'auto')\n",
    "        model.fit(X_selected, y_selected)\n",
    "        # add to the classifiers\n",
    "        classifiers.append((model, pos_class, neg_class))\n",
    "print(\"%d classifiers trained.\" % (len(classifiers),))\n",
    "\n",
    "# compute the predicted labels\n",
    "def ovo_predict(X):\n",
    "    cnt = np.zeros((X.shape[0], n_classes))\n",
    "    # try each classifier\n",
    "    for estimator, pos_class, neg_class in classifiers:\n",
    "        y = estimator.predict(X)\n",
    "        cnt[: , pos_class] += y\n",
    "        cnt[: , neg_class] += (1 - y)\n",
    "    return np.argmax(cnt, axis = 1)\n",
    "\n",
    "# compute validation score\n",
    "y_predict = ovo_predict(X_val_ovo)\n",
    "print('validation score:', np.sum(y_predict == y_val_ovo) / X_val_ovo.shape[0])"
   ]
  },
  {
   "cell_type": "code",
   "execution_count": 84,
   "id": "985adf6d",
   "metadata": {},
   "outputs": [
    {
     "name": "stdout",
     "output_type": "stream",
     "text": [
      "Accuracy: 0.335\n"
     ]
    }
   ],
   "source": [
    "# evaluate once on the test data\n",
    "y_predict = ovo_predict(X_test)\n",
    "print('Accuracy: %.3f' % (np.sum(y_predict == y_test) / X_test.shape[0],))"
   ]
  },
  {
   "cell_type": "code",
   "execution_count": 85,
   "id": "005543c4",
   "metadata": {},
   "outputs": [
    {
     "name": "stdout",
     "output_type": "stream",
     "text": [
      "best validation score: 0.593\n",
      "CPU times: user 191 ms, sys: 7.49 ms, total: 199 ms\n",
      "Wall time: 198 ms\n"
     ]
    }
   ],
   "source": [
    "%%time\n",
    "# this block implements the OvR classification\n",
    "\n",
    "# set some parameters\n",
    "regular_inv = 20\n",
    "\n",
    "best_score = float('-inf')\n",
    "best_classifier = None\n",
    "\n",
    "results = cross_validate(LogisticRegression(C = regular_inv, class_weight = None, solver = 'lbfgs', multi_class = 'ovr'), \n",
    "                        X_train, y_train, cv = 3, return_estimator = True)\n",
    "idx = np.argmax(results['test_score'])\n",
    "max_score = results['test_score'][idx]\n",
    "if (max_score > best_score):\n",
    "    best_score = max_score\n",
    "    best_classifier = results['estimator'][idx]\n",
    "\n",
    "print(\"best validation score: %.3f\" % (best_score,))"
   ]
  },
  {
   "cell_type": "code",
   "execution_count": 86,
   "id": "302a3451",
   "metadata": {},
   "outputs": [
    {
     "name": "stdout",
     "output_type": "stream",
     "text": [
      "Accuracy: 0.578\n"
     ]
    }
   ],
   "source": [
    "# evaluate once on the test data\n",
    "y_predict = best_classifier.predict(X_test)\n",
    "print(\"Accuracy: %.3f\" % (np.sum(y_predict == y_test) / X_test.shape[0],))"
   ]
  },
  {
   "cell_type": "code",
   "execution_count": 87,
   "id": "b2c46d91",
   "metadata": {},
   "outputs": [
    {
     "name": "stdout",
     "output_type": "stream",
     "text": [
      "best validation score: 0.604\n",
      "CPU times: user 119 ms, sys: 255 µs, total: 119 ms\n",
      "Wall time: 119 ms\n"
     ]
    }
   ],
   "source": [
    "%%time\n",
    "# this block implements the multi-class logistic regression \n",
    "\n",
    "# scale the data first\n",
    "X_mean = np.mean(X_train, axis = 0)\n",
    "X_std = np.std(X_train, axis = 0)\n",
    "X_train_scaled = (X_train - X_mean) / X_std\n",
    "\n",
    "# set some parameters\n",
    "regular_inv = 1\n",
    "\n",
    "best_score = float('-inf')\n",
    "best_classifier = None\n",
    "\n",
    "results = cross_validate(LogisticRegression(C = regular_inv, class_weight = None, solver = 'lbfgs', multi_class = 'multinomial', tol = 0.01, max_iter = 200), \n",
    "                        X_train_scaled, y_train, cv = 3, return_estimator = True)\n",
    "idx = np.argmax(results['test_score'])\n",
    "max_score = results['test_score'][idx]\n",
    "if (max_score > best_score):\n",
    "    best_score = max_score\n",
    "    best_classifier = results['estimator'][idx]\n",
    "\n",
    "print(\"best validation score: %.3f\" % (best_score,))"
   ]
  },
  {
   "cell_type": "code",
   "execution_count": 88,
   "id": "0428f40f",
   "metadata": {},
   "outputs": [
    {
     "name": "stdout",
     "output_type": "stream",
     "text": [
      "Accuracy: 0.5755102040816327\n"
     ]
    }
   ],
   "source": [
    "# evaluate once on the test data\n",
    "X_test_scaled = (X_test - X_mean) / X_std\n",
    "y_predict = best_classifier.predict(X_test_scaled)\n",
    "print('Accuracy:', np.sum(y_predict == y_test) / X_test_scaled.shape[0])"
   ]
  }
 ],
 "metadata": {
  "kernelspec": {
   "display_name": "Python 3",
   "language": "python",
   "name": "python3"
  },
  "language_info": {
   "codemirror_mode": {
    "name": "ipython",
    "version": 3
   },
   "file_extension": ".py",
   "mimetype": "text/x-python",
   "name": "python",
   "nbconvert_exporter": "python",
   "pygments_lexer": "ipython3",
   "version": "3.9.7"
  }
 },
 "nbformat": 4,
 "nbformat_minor": 5
}
